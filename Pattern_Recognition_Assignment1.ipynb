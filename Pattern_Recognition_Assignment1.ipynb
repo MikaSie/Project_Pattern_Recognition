{
 "cells": [
  {
   "cell_type": "markdown",
   "id": "3e8aa7c4",
   "metadata": {},
   "source": [
    "# Imports"
   ]
  },
  {
   "cell_type": "code",
   "execution_count": 14,
   "id": "33696999",
   "metadata": {},
   "outputs": [],
   "source": [
    "import pandas as pd\n",
    "import matplotlib.pyplot as plt\n",
    "from collections import Counter\n",
    "from pprint import pprint"
   ]
  },
  {
   "cell_type": "code",
   "execution_count": 15,
   "id": "112ab706",
   "metadata": {},
   "outputs": [],
   "source": [
    "mnist_data = pd.read_csv('mnist.csv').values"
   ]
  },
  {
   "cell_type": "markdown",
   "id": "9fbfba17",
   "metadata": {},
   "source": [
    "# Test Image Plotting"
   ]
  },
  {
   "cell_type": "code",
   "execution_count": 16,
   "id": "2da82e84",
   "metadata": {},
   "outputs": [
    {
     "data": {
      "image/png": "[encoded data removed]",
      "text/plain": [
       "<Figure size 432x288 with 1 Axes>"
      ]
     },
     "metadata": {
      "needs_background": "light"
     },
     "output_type": "display_data"
    }
   ],
   "source": [
    "labels = mnist_data[:, 0]\n",
    "digits = mnist_data[:, 1:]\n",
    "img_size = 28\n",
    "plt.imshow(digits[0].reshape(img_size, img_size))\n",
    "plt.show()"
   ]
  },
  {
   "cell_type": "markdown",
   "id": "9c4f75cc",
   "metadata": {},
   "source": [
    "# 1. Data Exploration"
   ]
  },
  {
   "cell_type": "code",
   "execution_count": 17,
   "id": "bfa46e63",
   "metadata": {},
   "outputs": [
    {
     "name": "stdout",
     "output_type": "stream",
     "text": [
      "Counter({1: 4684,\n",
      "         7: 4401,\n",
      "         3: 4351,\n",
      "         9: 4188,\n",
      "         2: 4177,\n",
      "         6: 4137,\n",
      "         0: 4132,\n",
      "         4: 4072,\n",
      "         8: 4063,\n",
      "         5: 3795})\n",
      "\n",
      "{0: 0.09838095238095237,\n",
      " 1: 0.11152380952380953,\n",
      " 2: 0.09945238095238096,\n",
      " 3: 0.1035952380952381,\n",
      " 4: 0.09695238095238096,\n",
      " 5: 0.09035714285714286,\n",
      " 6: 0.0985,\n",
      " 7: 0.10478571428571429,\n",
      " 8: 0.09673809523809523,\n",
      " 9: 0.09971428571428571}\n"
     ]
    }
   ],
   "source": [
    "label_counts = Counter(labels)\n",
    "label_percentages = {label: count/len(labels) for label, count in label_counts.items()}\n",
    "pprint(label_counts)\n",
    "print()\n",
    "pprint(label_percentages)"
   ]
  },
  {
   "cell_type": "code",
   "execution_count": null,
   "id": "3689fdc8",
   "metadata": {},
   "outputs": [],
   "source": []
  },
  {
   "cell_type": "code",
   "execution_count": null,
   "id": "fa8ee471",
   "metadata": {},
   "outputs": [],
   "source": []
  }
 ],
 "metadata": {
  "kernelspec": {
   "display_name": "Python 3 (ipykernel)",
   "language": "python",
   "name": "python3"
  },
  "language_info": {
   "codemirror_mode": {
    "name": "ipython",
    "version": 3
   },
   "file_extension": ".py",
   "mimetype": "text/x-python",
   "name": "python",
   "nbconvert_exporter": "python",
   "pygments_lexer": "ipython3",
   "version": "3.9.7"
  }
 },
 "nbformat": 4,
 "nbformat_minor": 5
}
