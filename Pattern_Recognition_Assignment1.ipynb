{
 "cells": [
  {
   "cell_type": "code",
   "execution_count": 43,
   "id": "15b628f5",
   "metadata": {},
   "outputs": [
    {
     "data": {
      "application/javascript": [
       "if (!(\"Notification\" in window)) {\n",
       "    alert(\"This browser does not support desktop notifications, so the %%notify magic will not work.\");\n",
       "} else if (Notification.permission !== 'granted' && Notification.permission !== 'denied') {\n",
       "    Notification.requestPermission(function (permission) {\n",
       "        if(!('permission' in Notification)) {\n",
       "            Notification.permission = permission;\n",
       "        }\n",
       "    })\n",
       "}\n"
      ],
      "text/plain": [
       "<IPython.core.display.Javascript object>"
      ]
     },
     "metadata": {},
     "output_type": "display_data"
    }
   ],
   "source": [
    "%load_ext jupyternotify"
   ]
  },
  {
   "cell_type": "markdown",
   "id": "3e8aa7c4",
   "metadata": {},
   "source": [
    "# Imports"
   ]
  },
  {
   "cell_type": "code",
   "execution_count": 1,
   "id": "33696999",
   "metadata": {},
   "outputs": [],
   "source": [
    "import pandas as pd\n",
    "import matplotlib.pyplot as plt\n",
    "import sklearn \n",
    "from sklearn.model_selection import train_test_split, GridSearchCV, RandomizedSearchCV\n",
    "from sklearn.preprocessing import scale\n",
    "from sklearn import linear_model\n",
    "from sklearn.linear_model import LogisticRegression, LogisticRegressionCV\n",
    "from sklearn.svm import SVC\n",
    "from sklearn import preprocessing\n",
    "from collections import Counter\n",
    "from pprint import pprint\n",
    "import numpy as np\n",
    "import statsmodels\n",
    "from statsmodels.stats.contingency_tables import mcnemar"
   ]
  },
  {
   "cell_type": "code",
   "execution_count": 2,
   "id": "112ab706",
   "metadata": {},
   "outputs": [],
   "source": [
    "mnist_data = pd.read_csv('mnist.csv').values"
   ]
  },
  {
   "cell_type": "markdown",
   "id": "9fbfba17",
   "metadata": {},
   "source": [
    "# Test Image Plotting"
   ]
  },
  {
   "cell_type": "code",
   "execution_count": 3,
   "id": "2da82e84",
   "metadata": {},
   "outputs": [
    {
     "data": {
      "image/png": "[encoded data removed]",
      "text/plain": [
       "<Figure size 640x480 with 1 Axes>"
      ]
     },
     "metadata": {},
     "output_type": "display_data"
    }
   ],
   "source": [
    "labels = mnist_data[:, 0]\n",
    "digits = mnist_data[:, 1:]\n",
    "img_size = 28\n",
    "plt.imshow(digits[2].reshape(img_size, img_size))\n",
    "plt.show()"
   ]
  },
  {
   "cell_type": "markdown",
   "id": "9c4f75cc",
   "metadata": {},
   "source": [
    "# 1. Data Exploration"
   ]
  },
  {
   "cell_type": "code",
   "execution_count": 4,
   "id": "bfa46e63",
   "metadata": {},
   "outputs": [
    {
     "name": "stdout",
     "output_type": "stream",
     "text": [
      "Counter({1: 4684,\n",
      "         7: 4401,\n",
      "         3: 4351,\n",
      "         9: 4188,\n",
      "         2: 4177,\n",
      "         6: 4137,\n",
      "         0: 4132,\n",
      "         4: 4072,\n",
      "         8: 4063,\n",
      "         5: 3795})\n",
      "\n",
      "{0: 0.09838095238095237,\n",
      " 1: 0.11152380952380953,\n",
      " 2: 0.09945238095238096,\n",
      " 3: 0.1035952380952381,\n",
      " 4: 0.09695238095238096,\n",
      " 5: 0.09035714285714286,\n",
      " 6: 0.0985,\n",
      " 7: 0.10478571428571429,\n",
      " 8: 0.09673809523809523,\n",
      " 9: 0.09971428571428571}\n"
     ]
    }
   ],
   "source": [
    "label_counts = Counter(labels)\n",
    "label_percentages = {label: count/len(labels) for label, count in label_counts.items()}\n",
    "pprint(label_counts)\n",
    "print()\n",
    "pprint(label_percentages)"
   ]
  },
  {
   "cell_type": "code",
   "execution_count": 5,
   "id": "fa8ee471",
   "metadata": {},
   "outputs": [],
   "source": [
    "from collections import defaultdict\n",
    "\n",
    "pixel_avg = defaultdict(float)\n",
    "for i in range(len(digits[0, :])):\n",
    "    pixel_avg[i] = sum(digits[:, i])/len(digits[:, i])\n",
    "    \n",
    "pixel_avg_list = [pixel_avg[i] for i in range(784)]"
   ]
  },
  {
   "cell_type": "code",
   "execution_count": 6,
   "id": "662b3a70",
   "metadata": {},
   "outputs": [
    {
     "name": "stdout",
     "output_type": "stream",
     "text": [
      "defaultdict(<class 'float'>,\n",
      "            {0: 0.0,\n",
      "             1: 0.0,\n",
      "             2: 0.0,\n",
      "             3: 0.0,\n",
      "             4: 0.0,\n",
      "             5: 0.0,\n",
      "             6: 0.0,\n",
      "             7: 0.0,\n",
      "             8: 0.0,\n",
      "             9: 0.0,\n",
      "             10: 0.0,\n",
      "             11: 0.0,\n",
      "             12: 0.003,\n",
      "             13: 0.01119047619047619,\n",
      "             14: 0.005142857142857143,\n",
      "             15: 0.00021428571428571427,\n",
      "             16: 0.0,\n",
      "             17: 0.0,\n",
      "             18: 0.0,\n",
      "             19: 0.0,\n",
      "             20: 0.0,\n",
      "             21: 0.0,\n",
      "             22: 0.0,\n",
      "             23: 0.0,\n",
      "             24: 0.0,\n",
      "             25: 0.0,\n",
      "             26: 0.0,\n",
      "             27: 0.0,\n",
      "             28: 0.0,\n",
      "             29: 0.0,\n",
      "             30: 0.0,\n",
      "             31: 0.0,\n",
      "             32: 0.00038095238095238096,\n",
      "             33: 0.0013095238095238095,\n",
      "             34: 0.010547619047619047,\n",
      "             35: 0.02726190476190476,\n",
      "             36: 0.050904761904761904,\n",
      "             37: 0.06640476190476191,\n",
      "             38: 0.12957142857142856,\n",
      "             39: 0.17411904761904762,\n",
      "             40: 0.19130952380952382,\n",
      "             41: 0.1905952380952381,\n",
      "             42: 0.19604761904761905,\n",
      "             43: 0.17135714285714285,\n",
      "             44: 0.16447619047619047,\n",
      "             45: 0.15171428571428572,\n",
      "             46: 0.10530952380952381,\n",
      "             47: 0.06078571428571428,\n",
      "             48: 0.045071428571428575,\n",
      "             49: 0.015404761904761905,\n",
      "             50: 0.010523809523809524,\n",
      "             51: 0.005047619047619047,\n",
      "             52: 0.0,\n",
      "             53: 0.0,\n",
      "             54: 0.0,\n",
      "             55: 0.0,\n",
      "             56: 0.0,\n",
      "             57: 0.0,\n",
      "             58: 0.0015238095238095239,\n",
      "             59: 0.0006904761904761905,\n",
      "             60: 0.007333333333333333,\n",
      "             61: 0.009023809523809524,\n",
      "             62: 0.06111904761904762,\n",
      "             63: 0.15107142857142858,\n",
      "             64: 0.2958571428571429,\n",
      "             65: 0.5336666666666666,\n",
      "             66: 0.8693809523809524,\n",
      "             67: 1.3462142857142858,\n",
      "             68: 1.9814285714285715,\n",
      "             69: 2.6985952380952383,\n",
      "             70: 3.3901190476190477,\n",
      "             71: 3.8016666666666667,\n",
      "             72: 3.7400714285714285,\n",
      "             73: 3.332809523809524,\n",
      "             74: 2.6845,\n",
      "             75: 1.9926190476190475,\n",
      "             76: 1.195857142857143,\n",
      "             77: 0.6011904761904762,\n",
      "             78: 0.29383333333333334,\n",
      "             79: 0.09847619047619048,\n",
      "             80: 0.03495238095238095,\n",
      "             81: 0.008404761904761904,\n",
      "             82: 0.0,\n",
      "             83: 0.0,\n",
      "             84: 0.0,\n",
      "             85: 0.0,\n",
      "             86: 0.003619047619047619,\n",
      "             87: 0.004166666666666667,\n",
      "             88: 0.016404761904761905,\n",
      "             89: 0.08976190476190476,\n",
      "             90: 0.23583333333333334,\n",
      "             91: 0.5407380952380952,\n",
      "             92: 1.1928333333333334,\n",
      "             93: 2.2928571428571427,\n",
      "             94: 3.7683809523809524,\n",
      "             95: 5.713880952380952,\n",
      "             96: 7.7512380952380955,\n",
      "             97: 10.048857142857143,\n",
      "             98: 12.067738095238095,\n",
      "             99: 13.40495238095238,\n",
      "             100: 13.072714285714286,\n",
      "             101: 11.573809523809524,\n",
      "             102: 9.2955,\n",
      "             103: 6.708333333333333,\n",
      "             104: 4.140023809523809,\n",
      "             105: 2.2695714285714286,\n",
      "             106: 1.091904761904762,\n",
      "             107: 0.4245952380952381,\n",
      "             108: 0.16797619047619047,\n",
      "             109: 0.02373809523809524,\n",
      "             110: 0.0028809523809523807,\n",
      "             111: 0.0,\n",
      "             112: 0.0,\n",
      "             113: 0.0009047619047619047,\n",
      "             114: 0.0027380952380952383,\n",
      "             115: 0.01607142857142857,\n",
      "             116: 0.08826190476190476,\n",
      "             117: 0.3886904761904762,\n",
      "             118: 1.030047619047619,\n",
      "             119: 2.454904761904762,\n",
      "             120: 4.953214285714286,\n",
      "             121: 8.67695238095238,\n",
      "             122: 13.7995,\n",
      "             123: 20.330761904761903,\n",
      "             124: 28.04395238095238,\n",
      "             125: 36.08497619047619,\n",
      "             126: 42.71395238095238,\n",
      "             127: 46.092309523809526,\n",
      "             128: 44.54245238095238,\n",
      "             129: 38.948523809523806,\n",
      "             130: 30.964761904761904,\n",
      "             131: 22.90954761904762,\n",
      "             132: 14.868857142857143,\n",
      "             133: 8.691619047619048,\n",
      "             134: 4.550785714285714,\n",
      "             135: 2.0998809523809525,\n",
      "             136: 0.8387619047619047,\n",
      "             137: 0.20276190476190475,\n",
      "             138: 0.035476190476190474,\n",
      "             139: 0.0,\n",
      "             140: 0.0,\n",
      "             141: 0.0,\n",
      "             142: 0.009428571428571429,\n",
      "             143: 0.048,\n",
      "             144: 0.41159523809523807,\n",
      "             145: 1.4383333333333332,\n",
      "             146: 3.5576904761904764,\n",
      "             147: 7.149928571428571,\n",
      "             148: 12.928142857142857,\n",
      "             149: 21.419880952380954,\n",
      "             150: 32.22185714285714,\n",
      "             151: 45.3635,\n",
      "             152: 60.17592857142857,\n",
      "             153: 75.01057142857142,\n",
      "             154: 86.29640476190477,\n",
      "             155: 91.58814285714286,\n",
      "             156: 89.45028571428571,\n",
      "             157: 80.30259523809524,\n",
      "             158: 65.76197619047619,\n",
      "             159: 49.64778571428572,\n",
      "             160: 34.3905,\n",
      "             161: 21.45754761904762,\n",
      "             162: 12.228142857142856,\n",
      "             163: 6.3745714285714286,\n",
      "             164: 2.9060952380952383,\n",
      "             165: 0.7933571428571429,\n",
      "             166: 0.12604761904761905,\n",
      "             167: 0.00042857142857142855,\n",
      "             168: 0.0,\n",
      "             169: 9.523809523809524e-05,\n",
      "             170: 0.023095238095238096,\n",
      "             171: 0.22838095238095238,\n",
      "             172: 1.1545476190476192,\n",
      "             173: 3.2680238095238097,\n",
      "             174: 7.367047619047619,\n",
      "             175: 14.106690476190476,\n",
      "             176: 24.12745238095238,\n",
      "             177: 37.88352380952381,\n",
      "             178: 54.00757142857143,\n",
      "             179: 72.00428571428571,\n",
      "             180: 90.47123809523809,\n",
      "             181: 107.53890476190476,\n",
      "             182: 119.69957142857143,\n",
      "             183: 124.89457142857142,\n",
      "             184: 121.89576190476191,\n",
      "             185: 111.64797619047619,\n",
      "             186: 95.5885,\n",
      "             187: 74.6015,\n",
      "             188: 53.73652380952381,\n",
      "             189: 34.95697619047619,\n",
      "             190: 20.6955,\n",
      "             191: 11.12397619047619,\n",
      "             192: 5.254190476190476,\n",
      "             193: 1.7734285714285714,\n",
      "             194: 0.3457142857142857,\n",
      "             195: 0.025023809523809525,\n",
      "             196: 0.0,\n",
      "             197: 0.01780952380952381,\n",
      "             198: 0.11247619047619048,\n",
      "             199: 0.6214047619047619,\n",
      "             200: 2.452142857142857,\n",
      "             201: 5.980642857142857,\n",
      "             202: 12.388642857142857,\n",
      "             203: 22.35540476190476,\n",
      "             204: 36.59754761904762,\n",
      "             205: 54.73504761904762,\n",
      "             206: 74.79014285714285,\n",
      "             207: 95.4204761904762,\n",
      "             208: 112.98997619047618,\n",
      "             209: 126.25611904761905,\n",
      "             210: 133.59080952380953,\n",
      "             211: 135.49197619047618,\n",
      "             212: 132.8962619047619,\n",
      "             213: 125.99566666666666,\n",
      "             214: 112.65426190476191,\n",
      "             215: 92.72788095238096,\n",
      "             216: 68.895,\n",
      "             217: 46.20923809523809,\n",
      "             218: 27.630261904761905,\n",
      "             219: 14.792880952380953,\n",
      "             220: 6.777404761904762,\n",
      "             221: 2.3806904761904764,\n",
      "             222: 0.4857619047619048,\n",
      "             223: 0.021547619047619048,\n",
      "             224: 0.0012619047619047618,\n",
      "             225: 0.06661904761904762,\n",
      "             226: 0.38361904761904764,\n",
      "             227: 1.4005476190476192,\n",
      "             228: 3.9707857142857144,\n",
      "             229: 8.703857142857142,\n",
      "             230: 16.907119047619048,\n",
      "             231: 29.636690476190477,\n",
      "             232: 47.379,\n",
      "             233: 69.17619047619047,\n",
      "             234: 92.11766666666666,\n",
      "             235: 110.21469047619047,\n",
      "             236: 120.60423809523809,\n",
      "             237: 123.88545238095239,\n",
      "             238: 123.22990476190476,\n",
      "             239: 121.98252380952381,\n",
      "             240: 122.21909523809524,\n",
      "             241: 121.77454761904762,\n",
      "             242: 116.12269047619047,\n",
      "             243: 100.1854761904762,\n",
      "             244: 76.63104761904762,\n",
      "             245: 52.0155,\n",
      "             246: 31.161190476190477,\n",
      "             247: 15.893642857142858,\n",
      "             248: 6.91252380952381,\n",
      "             249: 2.4811190476190474,\n",
      "             250: 0.4845238095238095,\n",
      "             251: 0.017738095238095237,\n",
      "             252: 0.009547619047619048,\n",
      "             253: 0.09826190476190476,\n",
      "             254: 0.5516904761904762,\n",
      "             255: 1.8045714285714285,\n",
      "             256: 4.648,\n",
      "             257: 9.88097619047619,\n",
      "             258: 19.544690476190475,\n",
      "             259: 34.52285714285714,\n",
      "             260: 55.55533333333333,\n",
      "             261: 79.87361904761904,\n",
      "             262: 101.01197619047619,\n",
      "             263: 111.90007142857142,\n",
      "             264: 111.11757142857142,\n",
      "             265: 104.08783333333334,\n",
      "             266: 98.52840476190477,\n",
      "             267: 98.86566666666667,\n",
      "             268: 103.8740238095238,\n",
      "             269: 110.74783333333333,\n",
      "             270: 111.28590476190476,\n",
      "             271: 99.13561904761904,\n",
      "             272: 76.66111904761905,\n",
      "             273: 52.098571428571425,\n",
      "             274: 30.88740476190476,\n",
      "             275: 15.042642857142857,\n",
      "             276: 5.850904761904762,\n",
      "             277: 1.8378571428571429,\n",
      "             278: 0.33057142857142857,\n",
      "             279: 0.031285714285714285,\n",
      "             280: 0.01488095238095238,\n",
      "             281: 0.09914285714285714,\n",
      "             282: 0.5402619047619047,\n",
      "             283: 1.7089761904761904,\n",
      "             284: 4.3095,\n",
      "             285: 9.805690476190476,\n",
      "             286: 20.476690476190477,\n",
      "             287: 37.33295238095238,\n",
      "             288: 60.87542857142857,\n",
      "             289: 85.24345238095238,\n",
      "             290: 101.84880952380952,\n",
      "             291: 103.60473809523809,\n",
      "             292: 93.18078571428572,\n",
      "             293: 82.02788095238095,\n",
      "             294: 78.92319047619047,\n",
      "             295: 83.987,\n",
      "             296: 93.75854761904762,\n",
      "             297: 104.53704761904761,\n",
      "             298: 106.52407142857143,\n",
      "             299: 94.1890238095238,\n",
      "             300: 71.39023809523809,\n",
      "             301: 47.89188095238095,\n",
      "             302: 28.20738095238095,\n",
      "             303: 13.496380952380953,\n",
      "             304: 4.627238095238095,\n",
      "             305: 1.1572857142857143,\n",
      "             306: 0.22011904761904763,\n",
      "             307: 0.030666666666666665,\n",
      "             308: 0.006333333333333333,\n",
      "             309: 0.06704761904761905,\n",
      "             310: 0.43976190476190474,\n",
      "             311: 1.2878571428571428,\n",
      "             312: 3.5671666666666666,\n",
      "             313: 9.440809523809524,\n",
      "             314: 21.086785714285714,\n",
      "             315: 40.067238095238096,\n",
      "             316: 65.19288095238095,\n",
      "             317: 88.6477380952381,\n",
      "             318: 99.96178571428571,\n",
      "             319: 94.93697619047619,\n",
      "             320: 81.14178571428572,\n",
      "             321: 72.98754761904762,\n",
      "             322: 76.00511904761905,\n",
      "             323: 85.59542857142857,\n",
      "             324: 97.82392857142857,\n",
      "             325: 108.00388095238095,\n",
      "             326: 105.67883333333333,\n",
      "             327: 88.69926190476191,\n",
      "             328: 64.58757142857142,\n",
      "             329: 42.46104761904762,\n",
      "             330: 25.370857142857144,\n",
      "             331: 12.66352380952381,\n",
      "             332: 4.13047619047619,\n",
      "             333: 0.6492380952380953,\n",
      "             334: 0.1350952380952381,\n",
      "             335: 0.009642857142857142,\n",
      "             336: 0.0038809523809523808,\n",
      "             337: 0.035023809523809527,\n",
      "             338: 0.26657142857142857,\n",
      "             339: 0.8957619047619048,\n",
      "             340: 2.977809523809524,\n",
      "             341: 9.557309523809524,\n",
      "             342: 22.851642857142856,\n",
      "             343: 44.02107142857143,\n",
      "             344: 69.60395238095238,\n",
      "             345: 91.0862380952381,\n",
      "             346: 98.90559523809524,\n",
      "             347: 91.42340476190476,\n",
      "             348: 79.76207142857143,\n",
      "             349: 79.70197619047619,\n",
      "             350: 89.50578571428571,\n",
      "             351: 102.12411904761905,\n",
      "             352: 113.9267619047619,\n",
      "             353: 118.46333333333334,\n",
      "             354: 107.82628571428572,\n",
      "             355: 84.26502380952381,\n",
      "             356: 58.36892857142857,\n",
      "             357: 38.35695238095238,\n",
      "             358: 23.985261904761906,\n",
      "             359: 12.954309523809524,\n",
      "             360: 4.459476190476191,\n",
      "             361: 0.47595238095238096,\n",
      "             362: 0.07445238095238095,\n",
      "             363: 0.010904761904761905,\n",
      "             364: 0.0007619047619047619,\n",
      "             365: 0.0135,\n",
      "             366: 0.12916666666666668,\n",
      "             367: 0.6130952380952381,\n",
      "             368: 2.8149761904761905,\n",
      "             369: 10.700285714285714,\n",
      "             370: 25.70157142857143,\n",
      "             371: 47.93397619047619,\n",
      "             372: 72.82616666666667,\n",
      "             373: 91.76466666666667,\n",
      "             374: 97.14792857142857,\n",
      "             375: 91.11854761904762,\n",
      "             376: 86.84014285714285,\n",
      "             377: 96.87592857142857,\n",
      "             378: 111.45933333333333,\n",
      "             379: 124.506,\n",
      "             380: 130.65723809523809,\n",
      "             381: 127.5047619047619,\n",
      "             382: 109.50821428571429,\n",
      "             383: 81.27138095238095,\n",
      "             384: 55.3675,\n",
      "             385: 37.476190476190474,\n",
      "             386: 24.2905,\n",
      "             387: 13.904380952380953,\n",
      "             388: 5.257357142857143,\n",
      "             389: 0.6160476190476191,\n",
      "             390: 0.07252380952380952,\n",
      "             391: 0.012880952380952382,\n",
      "             392: 0.0,\n",
      "             393: 0.005,\n",
      "             394: 0.052476190476190475,\n",
      "             395: 0.4320952380952381,\n",
      "             396: 2.9363571428571427,\n",
      "             397: 12.36152380952381,\n",
      "             398: 28.51547619047619,\n",
      "             399: 50.570142857142855,\n",
      "             400: 73.5752619047619,\n",
      "             401: 89.73114285714286,\n",
      "             402: 94.55821428571429,\n",
      "             403: 92.67533333333333,\n",
      "             404: 97.16347619047619,\n",
      "             405: 114.95866666666667,\n",
      "             406: 130.14014285714285,\n",
      "             407: 139.82614285714286,\n",
      "             408: 137.41866666666667,\n",
      "             409: 128.65392857142857,\n",
      "             410: 107.68395238095238,\n",
      "             411: 79.75054761904762,\n",
      "             412: 56.31480952380952,\n",
      "             413: 39.24464285714286,\n",
      "             414: 25.754261904761904,\n",
      "             415: 14.858619047619047,\n",
      "             416: 5.844476190476191,\n",
      "             417: 0.8296428571428571,\n",
      "             418: 0.07433333333333333,\n",
      "             419: 0.0019285714285714286,\n",
      "             420: 0.0,\n",
      "             421: 0.0,\n",
      "             422: 0.035666666666666666,\n",
      "             423: 0.4787619047619048,\n",
      "             424: 3.477095238095238,\n",
      "             425: 14.314404761904761,\n",
      "             426: 30.78335714285714,\n",
      "             427: 51.01983333333333,\n",
      "             428: 71.09873809523809,\n",
      "             429: 85.13509523809523,\n",
      "             430: 90.78011904761905,\n",
      "             431: 93.73466666666667,\n",
      "             432: 104.61185714285715,\n",
      "             433: 123.09509523809524,\n",
      "             434: 135.52164285714287,\n",
      "             435: 139.07342857142856,\n",
      "             436: 131.99907142857143,\n",
      "             437: 121.69945238095238,\n",
      "             438: 101.91804761904761,\n",
      "             439: 78.85821428571428,\n",
      "             440: 58.84738095238095,\n",
      "             441: 41.730785714285716,\n",
      "             442: 27.166833333333333,\n",
      "             443: 15.096428571428572,\n",
      "             444: 5.894785714285714,\n",
      "             445: 1.0581190476190476,\n",
      "             446: 0.1437857142857143,\n",
      "             447: 0.010976190476190476,\n",
      "             448: 0.0,\n",
      "             449: 0.001880952380952381,\n",
      "             450: 0.0665952380952381,\n",
      "             451: 0.6474285714285715,\n",
      "             452: 4.448785714285714,\n",
      "             453: 16.35140476190476,\n",
      "             454: 32.251238095238094,\n",
      "             455: 49.758047619047616,\n",
      "             456: 66.19661904761905,\n",
      "             457: 77.70030952380952,\n",
      "             458: 83.55288095238095,\n",
      "             459: 88.87511904761905,\n",
      "             460: 100.51069047619048,\n",
      "             461: 115.3587380952381,\n",
      "             462: 126.01202380952381,\n",
      "             463: 127.45211904761905,\n",
      "             464: 121.31940476190476,\n",
      "             465: 111.3622380952381,\n",
      "             466: 95.93092857142857,\n",
      "             467: 78.35969047619048,\n",
      "             468: 60.51971428571429,\n",
      "             469: 42.62988095238095,\n",
      "             470: 27.053190476190476,\n",
      "             471: 14.336833333333333,\n",
      "             472: 5.590357142857143,\n",
      "             473: 1.2431190476190477,\n",
      "             474: 0.1885952380952381,\n",
      "             475: 0.02011904761904762,\n",
      "             476: 0.0,\n",
      "             477: 0.0037142857142857142,\n",
      "             478: 0.10514285714285715,\n",
      "             479: 0.9673333333333334,\n",
      "             480: 5.888166666666667,\n",
      "             481: 18.164714285714286,\n",
      "             482: 33.281261904761905,\n",
      "             483: 48.02164285714286,\n",
      "             484: 60.61980952380952,\n",
      "             485: 69.40116666666667,\n",
      "             486: 74.59016666666666,\n",
      "             487: 80.2617380952381,\n",
      "             488: 88.918,\n",
      "             489: 101.20692857142858,\n",
      "             490: 112.09909523809525,\n",
      "             491: 115.44064285714286,\n",
      "             492: 112.60142857142857,\n",
      "             493: 105.23742857142857,\n",
      "             494: 93.53133333333334,\n",
      "             495: 78.66033333333333,\n",
      "             496: 60.412142857142854,\n",
      "             497: 41.52045238095238,\n",
      "             498: 25.249285714285715,\n",
      "             499: 12.81902380952381,\n",
      "             500: 5.052071428571429,\n",
      "             501: 1.327904761904762,\n",
      "             502: 0.2042857142857143,\n",
      "             503: 0.018095238095238095,\n",
      "             504: 0.002642857142857143,\n",
      "             505: 0.005333333333333333,\n",
      "             506: 0.17157142857142857,\n",
      "             507: 1.509047619047619,\n",
      "             508: 7.523023809523809,\n",
      "             509: 20.14847619047619,\n",
      "             510: 34.721357142857144,\n",
      "             511: 48.300690476190475,\n",
      "             512: 58.558952380952384,\n",
      "             513: 65.85833333333333,\n",
      "             514: 71.4597380952381,\n",
      "             515: 76.26790476190476,\n",
      "             516: 82.621,\n",
      "             517: 94.34502380952381,\n",
      "             518: 106.0805,\n",
      "             519: 112.59178571428572,\n",
      "             520: 112.15009523809523,\n",
      "             521: 105.9895238095238,\n",
      "             522: 94.60064285714286,\n",
      "             523: 78.0955,\n",
      "             524: 57.809761904761906,\n",
      "             525: 38.39757142857143,\n",
      "             526: 22.676166666666667,\n",
      "             527: 11.289619047619048,\n",
      "             528: 4.453214285714286,\n",
      "             529: 1.2464523809523809,\n",
      "             530: 0.16207142857142856,\n",
      "             531: 0.011095238095238096,\n",
      "             532: 0.0,\n",
      "             533: 0.009595238095238096,\n",
      "             534: 0.2757142857142857,\n",
      "             535: 2.036714285714286,\n",
      "             536: 8.623880952380953,\n",
      "             537: 21.58745238095238,\n",
      "             538: 36.878119047619045,\n",
      "             539: 51.12119047619048,\n",
      "             540: 62.60630952380952,\n",
      "             541: 71.27542857142858,\n",
      "             542: 77.61211904761905,\n",
      "             543: 82.16483333333333,\n",
      "             544: 89.26409523809524,\n",
      "             545: 100.3345,\n",
      "             546: 112.42638095238095,\n",
      "             547: 118.64892857142857,\n",
      "             548: 117.18588095238096,\n",
      "             549: 108.68128571428572,\n",
      "             550: 93.43440476190476,\n",
      "             551: 73.2190238095238,\n",
      "             552: 51.845642857142856,\n",
      "             553: 33.29488095238095,\n",
      "             554: 18.946166666666667,\n",
      "             555: 9.129690476190476,\n",
      "             556: 3.535547619047619,\n",
      "             557: 1.0256904761904762,\n",
      "             558: 0.15980952380952382,\n",
      "             559: 0.0054285714285714284,\n",
      "             560: 0.0,\n",
      "             561: 0.009166666666666667,\n",
      "             562: 0.32357142857142857,\n",
      "             563: 2.294309523809524,\n",
      "             564: 8.576785714285714,\n",
      "             565: 20.66192857142857,\n",
      "             566: 36.90419047619048,\n",
      "             567: 53.742619047619044,\n",
      "             568: 68.98695238095237,\n",
      "             569: 81.3525,\n",
      "             570: 90.20871428571428,\n",
      "             571: 97.6210238095238,\n",
      "             572: 106.24754761904762,\n",
      "             573: 116.96016666666667,\n",
      "             574: 125.55892857142857,\n",
      "             575: 126.73059523809523,\n",
      "             576: 119.67009523809524,\n",
      "             577: 105.25616666666667,\n",
      "             578: 85.09242857142857,\n",
      "             579: 62.30121428571429,\n",
      "             580: 41.46904761904762,\n",
      "             581: 25.227714285714285,\n",
      "             582: 13.656285714285714,\n",
      "             583: 6.500571428571429,\n",
      "             584: 2.6336190476190477,\n",
      "             585: 0.7549523809523809,\n",
      "             586: 0.10421428571428572,\n",
      "             587: 0.0011904761904761906,\n",
      "             588: 0.0007619047619047619,\n",
      "             589: 0.007071428571428571,\n",
      "             590: 0.2723333333333333,\n",
      "             591: 1.9070952380952382,\n",
      "             592: 6.755761904761905,\n",
      "             593: 16.94802380952381,\n",
      "             594: 32.55945238095238,\n",
      "             595: 51.38804761904762,\n",
      "             596: 70.44983333333333,\n",
      "             597: 87.44761904761904,\n",
      "             598: 101.01692857142856,\n",
      "             599: 112.37480952380952,\n",
      "             600: 122.58830952380953,\n",
      "             601: 130.81278571428572,\n",
      "             602: 132.9817380952381,\n",
      "             603: 126.34216666666667,\n",
      "             604: 111.61695238095238,\n",
      "             605: 90.94609523809524,\n",
      "             606: 67.70611904761905,\n",
      "             607: 46.18714285714286,\n",
      "             608: 28.82047619047619,\n",
      "             609: 16.23392857142857,\n",
      "             610: 8.397333333333334,\n",
      "             611: 4.121809523809524,\n",
      "             612: 1.6346190476190476,\n",
      "             613: 0.4291904761904762,\n",
      "             614: 0.06571428571428571,\n",
      "             615: 0.0009285714285714286,\n",
      "             616: 0.0007380952380952381,\n",
      "             617: 0.0003333333333333333,\n",
      "             618: 0.1705,\n",
      "             619: 1.1579761904761905,\n",
      "             620: 4.030047619047619,\n",
      "             621: 10.908166666666666,\n",
      "             622: 23.25788095238095,\n",
      "             623: 40.24497619047619,\n",
      "             624: 60.68852380952381,\n",
      "             625: 80.78833333333333,\n",
      "             626: 98.91635714285714,\n",
      "             627: 113.00285714285714,\n",
      "             628: 122.65433333333333,\n",
      "             629: 126.03095238095239,\n",
      "             630: 121.88626190476191,\n",
      "             631: 108.46321428571429,\n",
      "             632: 89.06164285714286,\n",
      "             633: 66.83883333333333,\n",
      "             634: 45.73195238095238,\n",
      "             635: 28.858690476190475,\n",
      "             636: 16.68595238095238,\n",
      "             637: 8.913904761904762,\n",
      "             638: 4.5477380952380955,\n",
      "             639: 2.1021666666666667,\n",
      "             640: 0.7971190476190476,\n",
      "             641: 0.20188095238095238,\n",
      "             642: 0.023333333333333334,\n",
      "             643: 0.0017142857142857142,\n",
      "             644: 0.0,\n",
      "             645: 0.0,\n",
      "             646: 0.06069047619047619,\n",
      "             647: 0.47285714285714286,\n",
      "             648: 1.8087380952380951,\n",
      "             649: 5.026404761904762,\n",
      "             650: 12.00754761904762,\n",
      "             651: 23.708785714285714,\n",
      "             652: 39.837785714285715,\n",
      "             653: 58.29192857142857,\n",
      "             654: 76.57092857142857,\n",
      "             655: 91.6235,\n",
      "             656: 99.90354761904761,\n",
      "             657: 99.81866666666667,\n",
      "             658: 91.57388095238095,\n",
      "             659: 76.46990476190476,\n",
      "             660: 58.16161904761905,\n",
      "             661: 40.59492857142857,\n",
      "             662: 25.686619047619047,\n",
      "             663: 15.206214285714285,\n",
      "             664: 8.413738095238095,\n",
      "             665: 4.274952380952381,\n",
      "             666: 2.1051904761904763,\n",
      "             667: 0.9506190476190476,\n",
      "             668: 0.30954761904761907,\n",
      "             669: 0.06471428571428571,\n",
      "             670: 0.012380952380952381,\n",
      "             671: 0.0,\n",
      "             672: 0.0,\n",
      "             673: 0.0,\n",
      "             674: 0.01804761904761905,\n",
      "             675: 0.13885714285714285,\n",
      "             676: 0.5567142857142857,\n",
      "             677: 1.6373809523809524,\n",
      "             678: 4.1519047619047615,\n",
      "             679: 8.925357142857143,\n",
      "             680: 16.41638095238095,\n",
      "             681: 26.398095238095237,\n",
      "             682: 37.14035714285714,\n",
      "             683: 46.20211904761905,\n",
      "             684: 51.23511904761905,\n",
      "             685: 51.03809523809524,\n",
      "             686: 45.93390476190476,\n",
      "             687: 37.29109523809524,\n",
      "             688: 28.016,\n",
      "             689: 19.437595238095238,\n",
      "             690: 12.160023809523809,\n",
      "             691: 7.313071428571429,\n",
      "             692: 4.0005,\n",
      "             693: 1.9921666666666666,\n",
      "             694: 0.9327380952380953,\n",
      "             695: 0.40423809523809523,\n",
      "             696: 0.10026190476190476,\n",
      "             697: 0.023071428571428573,\n",
      "             698: 0.002761904761904762,\n",
      "             699: 0.0,\n",
      "             700: 0.0,\n",
      "             701: 0.0,\n",
      "             702: 0.0022380952380952382,\n",
      "             703: 0.020904761904761905,\n",
      "             704: 0.14892857142857144,\n",
      "             705: 0.4728809523809524,\n",
      "             706: 1.3057142857142856,\n",
      "             707: 2.9905238095238094,\n",
      "             708: 5.8429761904761905,\n",
      "             709: 9.438690476190477,\n",
      "             710: 13.482190476190477,\n",
      "             711: 16.55609523809524,\n",
      "             712: 18.125738095238095,\n",
      "             713: 17.899166666666666,\n",
      "             714: 16.10809523809524,\n",
      "             715: 13.644047619047619,\n",
      "             716: 10.893928571428571,\n",
      "             717: 8.055047619047619,\n",
      "             718: 5.333666666666667,\n",
      "             719: 3.1864285714285714,\n",
      "             720: 1.7211190476190477,\n",
      "             721: 0.8351428571428572,\n",
      "             722: 0.37873809523809526,\n",
      "             723: 0.14611904761904762,\n",
      "             724: 0.024404761904761905,\n",
      "             725: 0.005095238095238095,\n",
      "             726: 0.002476190476190476,\n",
      "             727: 0.0,\n",
      "             728: 0.0,\n",
      "             729: 0.0,\n",
      "             730: 0.0,\n",
      "             731: 0.0,\n",
      "             732: 0.03504761904761905,\n",
      "             733: 0.13966666666666666,\n",
      "             734: 0.503095238095238,\n",
      "             735: 1.1463333333333334,\n",
      "             736: 2.161785714285714,\n",
      "             737: 3.2434523809523808,\n",
      "             738: 4.637214285714285,\n",
      "             739: 5.9795,\n",
      "             740: 6.605095238095238,\n",
      "             741: 6.443595238095238,\n",
      "             742: 5.681095238095238,\n",
      "             743: 4.656952380952381,\n",
      "             744: 3.7725238095238094,\n",
      "             745: 2.748904761904762,\n",
      "             746: 1.796452380952381,\n",
      "             747: 1.089904761904762,\n",
      "             748: 0.5631904761904762,\n",
      "             749: 0.23957142857142857,\n",
      "             750: 0.09352380952380952,\n",
      "             751: 0.024833333333333332,\n",
      "             752: 0.0008571428571428571,\n",
      "             753: 0.0014047619047619047,\n",
      "             754: 0.0,\n",
      "             755: 0.0,\n",
      "             756: 0.0,\n",
      "             757: 0.0,\n",
      "             758: 0.0,\n",
      "             759: 0.0,\n",
      "             760: 0.0,\n",
      "             761: 0.006142857142857143,\n",
      "             762: 0.035833333333333335,\n",
      "             763: 0.08235714285714285,\n",
      "             764: 0.1149047619047619,\n",
      "             765: 0.17871428571428571,\n",
      "             766: 0.30145238095238097,\n",
      "             767: 0.41364285714285715,\n",
      "             768: 0.5136666666666667,\n",
      "             769: 0.5588333333333333,\n",
      "             770: 0.6778571428571428,\n",
      "             771: 0.6028095238095238,\n",
      "             772: 0.48923809523809525,\n",
      "             773: 0.3402142857142857,\n",
      "             774: 0.21928571428571428,\n",
      "             775: 0.1170952380952381,\n",
      "             776: 0.05902380952380953,\n",
      "             777: 0.02019047619047619,\n",
      "             778: 0.017238095238095236,\n",
      "             779: 0.002857142857142857,\n",
      "             780: 0.0,\n",
      "             781: 0.0,\n",
      "             782: 0.0,\n",
      "             783: 0.0})\n",
      "[0, 1, 2, 3, 4, 5, 6, 7, 8, 9, 10, 11, 16, 17, 18, 19, 20, 21, 22, 23, 24, 25, 26, 27, 28, 29, 30, 31, 52, 53, 54, 55, 56, 57, 82, 83, 84, 85, 111, 112, 139, 140, 141, 168, 196, 392, 420, 421, 448, 476, 532, 560, 644, 645, 671, 672, 673, 699, 700, 701, 727, 728, 729, 730, 731, 754, 755, 756, 757, 758, 759, 760, 780, 781, 782, 783]\n",
      "76\n"
     ]
    }
   ],
   "source": [
    "pprint(pixel_avg)\n",
    "\n",
    "useless_pixels = [i for i, avg in pixel_avg.items() if avg == 0.0]\n",
    "print(useless_pixels)\n",
    "print(len(useless_pixels))"
   ]
  },
  {
   "cell_type": "code",
   "execution_count": 7,
   "id": "fd8cc208",
   "metadata": {},
   "outputs": [
    {
     "data": {
      "image/png": "[encoded data removed]",
      "text/plain": [
       "<Figure size 640x480 with 1 Axes>"
      ]
     },
     "metadata": {},
     "output_type": "display_data"
    }
   ],
   "source": [
    "example_useless_pixels = np.array([1 if i not in useless_pixels else 0 for i in range(784)])\n",
    "plt.imshow(example_useless_pixels.reshape(img_size, img_size))\n",
    "plt.title(\"Pixel use: Dark = unused, light = used\")\n",
    "plt.show()"
   ]
  },
  {
   "cell_type": "code",
   "execution_count": 8,
   "id": "6360e0cd",
   "metadata": {},
   "outputs": [
    {
     "data": {
      "image/png": "[encoded data removed]",
      "text/plain": [
       "<Figure size 640x480 with 1 Axes>"
      ]
     },
     "metadata": {},
     "output_type": "display_data"
    }
   ],
   "source": [
    "plt.imshow(np.array(pixel_avg_list).reshape(img_size, img_size))\n",
    "plt.title(\"Average value per pixel\")\n",
    "plt.show()"
   ]
  },
  {
   "cell_type": "markdown",
   "id": "7202fe56",
   "metadata": {},
   "source": [
    "## 2. Ink feature and first model"
   ]
  },
  {
   "cell_type": "code",
   "execution_count": 9,
   "id": "df16d420",
   "metadata": {},
   "outputs": [],
   "source": [
    "# create ink feature\n",
    "\n",
    "ink = np.array([sum(row) for row in digits])\n",
    "\n",
    "# compute mean for each digit class\n",
    "ink_mean = [np.mean(ink[labels == i]) for i in range(10)]\n",
    "\n",
    "# compute standard deviation for each digit class\n",
    "ink_std = [np.std(ink[labels == i]) for i in range(10)]\n",
    "\n",
    "# The reshape is neccesary to call LogisticRegression() with a single feature\n",
    "ink = scale(ink).reshape(-1, 1)"
   ]
  },
  {
   "cell_type": "code",
   "execution_count": 10,
   "id": "ec32ef2d",
   "metadata": {},
   "outputs": [
    {
     "data": {
      "image/png": "[encoded data removed]",
      "text/plain": [
       "<Figure size 800x800 with 1 Axes>"
      ]
     },
     "metadata": {},
     "output_type": "display_data"
    }
   ],
   "source": [
    "x = [i for i in range(10)]\n",
    "\n",
    "fig, ax = plt.subplots(figsize=(8,8))\n",
    "\n",
    "plt.title(\"Ink per class\", fontdict={'weight':'bold', 'size':12})\n",
    "\n",
    "plt.bar(x, ink_mean, edgecolor='black', linewidth=2)\n",
    "plt.errorbar(x, ink_mean, yerr=ink_std, color='r', capsize=5, ls='none')\n",
    "ax.tick_params(width=2)\n",
    "plt.xlabel(\"Digit\", fontdict={'weight':'bold'})\n",
    "plt.ylabel(\"Ink\", fontdict={'weight':'bold'})\n",
    "plt.xticks(x, x)\n",
    "\n",
    "plt.show()"
   ]
  },
  {
   "cell_type": "code",
   "execution_count": 11,
   "id": "97d1eccc",
   "metadata": {
    "scrolled": true
   },
   "outputs": [],
   "source": [
    "model_logreg1 = LogisticRegression(random_state =0).fit(ink,labels)"
   ]
  },
  {
   "cell_type": "code",
   "execution_count": 12,
   "id": "a275d22c",
   "metadata": {},
   "outputs": [
    {
     "data": {
      "text/plain": [
       "array([1, 0, 1, ..., 2, 3, 1])"
      ]
     },
     "execution_count": 12,
     "metadata": {},
     "output_type": "execute_result"
    }
   ],
   "source": [
    "model_logreg1.predict(ink)"
   ]
  },
  {
   "cell_type": "code",
   "execution_count": 13,
   "id": "4a848eb5",
   "metadata": {},
   "outputs": [
    {
     "data": {
      "text/plain": [
       "0.22680952380952382"
      ]
     },
     "execution_count": 13,
     "metadata": {},
     "output_type": "execute_result"
    }
   ],
   "source": [
    "model_logreg1.score(ink, labels)"
   ]
  },
  {
   "cell_type": "markdown",
   "id": "25f0e3f6",
   "metadata": {},
   "source": [
    "# 3. LongestLines Feature \"Ratio\""
   ]
  },
  {
   "cell_type": "code",
   "execution_count": 14,
   "id": "8048ff58",
   "metadata": {},
   "outputs": [],
   "source": [
    "def longest_line_ratio(image):\n",
    "    \"\"\"Finds the longest lines horizontally and vertically withi n the digit. Takes their lengths and returns\n",
    "    a ratio of row_length/column_length. High number means row is longer than column, close to 1 means they are\n",
    "    roughly the same, close to 0, and column is longer than row\"\"\"\n",
    "    # Assuming continuous 784 pixels\n",
    "    max_row_length = 0\n",
    "    max_column_length = 0\n",
    "    \n",
    "    # ROW CALCULATION\n",
    "    for i in range(0, 784, 28): #index 0, 28, 56 etc...\n",
    "        end_of_row = i + 28\n",
    "        counter = 0\n",
    "        \n",
    "        # 0 ... 28\n",
    "        for current_pixel in range(i, end_of_row):\n",
    "            if image[current_pixel] > 0:\n",
    "                counter += 1\n",
    "        \n",
    "        max_row_length = max(counter, max_row_length)\n",
    "    \n",
    "    # COLUMN CALCULATION\n",
    "    for i in range(0, 28): #index 0, 1, 2 ... 28\n",
    "        end_of_column = i + (28 * 27)\n",
    "        counter = 0\n",
    "        \n",
    "        # 0 ... 28\n",
    "        for current_pixel in range(i, end_of_column, 28):\n",
    "            if image[current_pixel] > 0:\n",
    "                counter += 1\n",
    "        \n",
    "        max_column_length = max(counter, max_column_length)\n",
    "        \n",
    "    return (max_row_length/max_column_length)"
   ]
  },
  {
   "cell_type": "markdown",
   "id": "3417cb39",
   "metadata": {},
   "source": [
    "## 4. Ratio feature and second model"
   ]
  },
  {
   "cell_type": "code",
   "execution_count": 15,
   "id": "f2048457",
   "metadata": {},
   "outputs": [],
   "source": [
    "ratio = np.array([longest_line_ratio(image) for image in digits])\n",
    "\n",
    "# compute mean for each digit class\n",
    "ratio_mean = [np.mean(ratio[labels == i]) for i in range(10)]\n",
    "\n",
    "# compute standard deviation for each digit class\n",
    "ratio_std = [np.std(ratio[labels == i]) for i in range(10)]\n",
    "\n",
    "ratio = scale(ratio).reshape(-1,1)"
   ]
  },
  {
   "cell_type": "code",
   "execution_count": 16,
   "id": "1b6da1bd",
   "metadata": {},
   "outputs": [],
   "source": [
    "model_logreg1 = LogisticRegression(random_state =0).fit(ratio,labels)"
   ]
  },
  {
   "cell_type": "code",
   "execution_count": 17,
   "id": "0d1343d8",
   "metadata": {},
   "outputs": [
    {
     "data": {
      "text/plain": [
       "array([8, 3, 1, ..., 2, 7, 1])"
      ]
     },
     "execution_count": 17,
     "metadata": {},
     "output_type": "execute_result"
    }
   ],
   "source": [
    "model_logreg1.predict(ratio)"
   ]
  },
  {
   "cell_type": "code",
   "execution_count": 18,
   "id": "96f90f43",
   "metadata": {},
   "outputs": [
    {
     "data": {
      "text/plain": [
       "0.22614285714285715"
      ]
     },
     "execution_count": 18,
     "metadata": {},
     "output_type": "execute_result"
    }
   ],
   "source": [
    "model_logreg1.score(ratio, labels)"
   ]
  },
  {
   "cell_type": "markdown",
   "id": "734f9585",
   "metadata": {},
   "source": [
    "# 5. Nonzero pixels feature"
   ]
  },
  {
   "cell_type": "code",
   "execution_count": 19,
   "id": "ac3504a1",
   "metadata": {},
   "outputs": [],
   "source": [
    "def Non_Zero_Pixels(image):\n",
    "    counter =0\n",
    "    for i in range(0,784,1):\n",
    "        if image[i] > 0:\n",
    "            counter+=1\n",
    "    return counter"
   ]
  },
  {
   "cell_type": "markdown",
   "id": "24239ec0",
   "metadata": {},
   "source": [
    "## 6. Third model \"nonzero feature\""
   ]
  },
  {
   "cell_type": "code",
   "execution_count": 20,
   "id": "f823c226",
   "metadata": {},
   "outputs": [],
   "source": [
    "nonzero= np.array([Non_Zero_Pixels(image) for image in digits])\n",
    "\n",
    "nonzero_mean = [np.mean(nonzero[labels == i]) for i in range(10)]\n",
    "\n",
    "# compute standard deviation for each digit class\n",
    "nonzero_std = [np.std(nonzero[labels == i]) for i in range(10)]\n",
    "\n",
    "nonzero = scale(nonzero).reshape(-1,1)"
   ]
  },
  {
   "cell_type": "code",
   "execution_count": 21,
   "id": "42047b76",
   "metadata": {},
   "outputs": [],
   "source": [
    "model_logreg1 = LogisticRegression(random_state =0).fit(nonzero,labels)"
   ]
  },
  {
   "cell_type": "code",
   "execution_count": 22,
   "id": "5fd5d7cb",
   "metadata": {},
   "outputs": [
    {
     "data": {
      "text/plain": [
       "array([1, 0, 1, ..., 9, 3, 7])"
      ]
     },
     "execution_count": 22,
     "metadata": {},
     "output_type": "execute_result"
    }
   ],
   "source": [
    "model_logreg1.predict(nonzero)"
   ]
  },
  {
   "cell_type": "code",
   "execution_count": 23,
   "id": "3a646659",
   "metadata": {},
   "outputs": [
    {
     "data": {
      "text/plain": [
       "0.25511904761904763"
      ]
     },
     "execution_count": 23,
     "metadata": {},
     "output_type": "execute_result"
    }
   ],
   "source": [
    "model_logreg1.score(nonzero, labels)"
   ]
  },
  {
   "cell_type": "markdown",
   "id": "3cbf69f5",
   "metadata": {},
   "source": [
    "## 7. Fourth model \"All Features\""
   ]
  },
  {
   "cell_type": "code",
   "execution_count": 24,
   "id": "e56af492",
   "metadata": {},
   "outputs": [],
   "source": [
    "ink = scale(ink).reshape(42000,)\n",
    "ratio = scale(ratio).reshape(42000,)\n",
    "nonzero = scale(nonzero).reshape(42000,)"
   ]
  },
  {
   "cell_type": "code",
   "execution_count": 25,
   "id": "23e4af5e",
   "metadata": {},
   "outputs": [],
   "source": [
    "import itertools\n",
    "ratio_list = ratio.tolist()\n",
    "ink_list = ink.tolist()\n",
    "nonzero_list = nonzero.tolist()\n",
    "X= list(itertools.chain.from_iterable(zip(ink_list, ratio_list,nonzero_list)))"
   ]
  },
  {
   "cell_type": "code",
   "execution_count": 26,
   "id": "c318572e",
   "metadata": {},
   "outputs": [],
   "source": [
    "X= scale(X).reshape(42000,3)"
   ]
  },
  {
   "cell_type": "code",
   "execution_count": 27,
   "id": "486c91e7",
   "metadata": {},
   "outputs": [],
   "source": [
    "model_logreg2 = LogisticRegression(random_state =0).fit(X,labels)"
   ]
  },
  {
   "cell_type": "code",
   "execution_count": 28,
   "id": "31acbfcf",
   "metadata": {},
   "outputs": [
    {
     "data": {
      "text/plain": [
       "array([1, 8, 1, ..., 7, 2, 8])"
      ]
     },
     "execution_count": 28,
     "metadata": {},
     "output_type": "execute_result"
    }
   ],
   "source": [
    "model_logreg2.predict(X)"
   ]
  },
  {
   "cell_type": "code",
   "execution_count": 29,
   "id": "770f67d2",
   "metadata": {},
   "outputs": [
    {
     "data": {
      "text/plain": [
       "0.37392857142857144"
      ]
     },
     "execution_count": 29,
     "metadata": {},
     "output_type": "execute_result"
    }
   ],
   "source": [
    "model_logreg2.score(X, labels)"
   ]
  },
  {
   "cell_type": "code",
   "execution_count": 30,
   "id": "2b709634",
   "metadata": {
    "scrolled": true
   },
   "outputs": [
    {
     "data": {
      "image/png": "[encoded data removed]",
      "text/plain": [
       "<Figure size 800x800 with 1 Axes>"
      ]
     },
     "metadata": {},
     "output_type": "display_data"
    }
   ],
   "source": [
    "x = [i for i in range(10)]\n",
    "\n",
    "fig, ax = plt.subplots(figsize=(8,8))\n",
    "\n",
    "plt.title(\"Ratio per class\", fontdict={'weight':'bold', 'size':12})\n",
    "\n",
    "plt.bar(x, ratio_mean, edgecolor='black', linewidth=2)\n",
    "plt.errorbar(x, ratio_mean, yerr=ratio_std, color='r', capsize=5, ls='none')\n",
    "ax.tick_params(width=2)\n",
    "plt.xlabel(\"Digit\", fontdict={'weight':'bold'})\n",
    "plt.ylabel(\"Ratio\", fontdict={'weight':'bold'})\n",
    "plt.xticks(x, x)\n",
    "\n",
    "plt.show()"
   ]
  },
  {
   "cell_type": "code",
   "execution_count": 31,
   "id": "2151ec24",
   "metadata": {},
   "outputs": [
    {
     "data": {
      "image/png": "[encoded data removed]",
      "text/plain": [
       "<Figure size 800x800 with 1 Axes>"
      ]
     },
     "metadata": {},
     "output_type": "display_data"
    }
   ],
   "source": [
    "x = [i for i in range(10)]\n",
    "\n",
    "fig, ax = plt.subplots(figsize=(8,8))\n",
    "\n",
    "plt.title(\"Nonzero pixels per class\", fontdict={'weight':'bold', 'size':12})\n",
    "\n",
    "plt.bar(x, nonzero_mean, edgecolor='black', linewidth=2)\n",
    "plt.errorbar(x, nonzero_mean, yerr=nonzero_std, color='r', capsize=5, ls='none')\n",
    "ax.tick_params(width=2)\n",
    "plt.xlabel(\"Digit\", fontdict={'weight':'bold'})\n",
    "plt.ylabel(\"Nonzero Pixels\", fontdict={'weight':'bold'})\n",
    "plt.xticks(x, x)\n",
    "\n",
    "plt.show()"
   ]
  },
  {
   "cell_type": "code",
   "execution_count": 32,
   "id": "ee86f1cd",
   "metadata": {},
   "outputs": [
    {
     "name": "stdout",
     "output_type": "stream",
     "text": [
      "0.9212436292441253 \t 0.2239797765457606\n",
      "0.39261617020544715 \t 0.18840575300288148\n",
      "1.0507165874880846 \t 0.25337146859478854\n",
      "0.8475743832551954 \t 0.19704837546936022\n",
      "0.9177979165379527 \t 0.2600374750886837\n",
      "0.9974284395303374 \t 0.23233292743409736\n",
      "0.8699165361317345 \t 0.20888970203455595\n",
      "1.0238861899338199 \t 0.3123663063874526\n",
      "0.7173429151412142 \t 0.16565419629428169\n",
      "0.7441241503051229 \t 0.18879981839926804\n"
     ]
    }
   ],
   "source": [
    "print(ratio_mean[0], \"\\t\", ratio_std[0])\n",
    "print(ratio_mean[1], \"\\t\", ratio_std[1])\n",
    "print(ratio_mean[2], \"\\t\", ratio_std[2])\n",
    "print(ratio_mean[3], \"\\t\", ratio_std[3])\n",
    "print(ratio_mean[4], \"\\t\", ratio_std[4])\n",
    "print(ratio_mean[5], \"\\t\", ratio_std[5])\n",
    "print(ratio_mean[6], \"\\t\", ratio_std[6])\n",
    "print(ratio_mean[7], \"\\t\", ratio_std[7])\n",
    "print(ratio_mean[8], \"\\t\", ratio_std[8])\n",
    "print(ratio_mean[9], \"\\t\", ratio_std[9])"
   ]
  },
  {
   "cell_type": "code",
   "execution_count": 33,
   "id": "20afa7f0",
   "metadata": {},
   "outputs": [],
   "source": [
    "X = np.concatenate((ink,ratio), axis =0)"
   ]
  },
  {
   "cell_type": "code",
   "execution_count": 34,
   "id": "f8c050a6",
   "metadata": {},
   "outputs": [],
   "source": [
    "X = scale(X).reshape(42000,2)"
   ]
  },
  {
   "cell_type": "code",
   "execution_count": 35,
   "id": "18a64d45",
   "metadata": {},
   "outputs": [],
   "source": [
    "model_logreg2 = LogisticRegression(random_state =0).fit(X,labels)"
   ]
  },
  {
   "cell_type": "code",
   "execution_count": 36,
   "id": "0830d75b",
   "metadata": {},
   "outputs": [
    {
     "data": {
      "text/plain": [
       "array([1, 1, 3, ..., 1, 1, 1])"
      ]
     },
     "execution_count": 36,
     "metadata": {},
     "output_type": "execute_result"
    }
   ],
   "source": [
    "model_logreg2.predict(X)"
   ]
  },
  {
   "cell_type": "code",
   "execution_count": 37,
   "id": "44d1ca75",
   "metadata": {},
   "outputs": [
    {
     "data": {
      "text/plain": [
       "0.11190476190476191"
      ]
     },
     "execution_count": 37,
     "metadata": {},
     "output_type": "execute_result"
    }
   ],
   "source": [
    "model_logreg2.score(X, labels)"
   ]
  },
  {
   "cell_type": "markdown",
   "id": "841a6c82",
   "metadata": {},
   "source": [
    "# 7. MLR and SVM with training\n"
   ]
  },
  {
   "cell_type": "code",
   "execution_count": 38,
   "id": "4c190e92",
   "metadata": {},
   "outputs": [],
   "source": [
    "split = 5000/42000\n",
    "X_train, X_test, y_train, y_test = train_test_split(digits, labels, train_size = split)"
   ]
  },
  {
   "cell_type": "code",
   "execution_count": 39,
   "id": "3d40f6d0",
   "metadata": {},
   "outputs": [],
   "source": [
    "min_max_scaler = preprocessing.MinMaxScaler()\n",
    "\n",
    "X_train = min_max_scaler.fit_transform(X_train)\n",
    "\n",
    "model_MLRCV = LogisticRegressionCV(Cs = 10, penalty = 'l1', solver = 'liblinear', n_jobs = 6, random_state = 0, max_iter = 10000).fit(X_train, y_train)"
   ]
  },
  {
   "cell_type": "code",
   "execution_count": null,
   "id": "b55949d2",
   "metadata": {},
   "outputs": [],
   "source": [
    "#Determine the best logistic regression model with gridsearch and 7 C values\n",
    "%%time\n",
    "clf = GridSearchCV(LogisticRegression(max_iter = 10000), {\n",
    "    'penalty': ['l1'],\n",
    "    'solver': ['liblinear', 'saga'],\n",
    "    'C': [1, 3, 5, 7, 9, 11, 13]\n",
    "    }, cv=10, return_train_score = False, verbose =1)\n",
    "\n",
    "clf.fit(X_train, y_train)\n",
    "df = pd.DataFrame(clf.cv_results_)\n",
    "df"
   ]
  },
  {
   "cell_type": "code",
   "execution_count": null,
   "id": "552b7035",
   "metadata": {},
   "outputs": [
    {
     "name": "stdout",
     "output_type": "stream",
     "text": [
      "Fitting 10 folds for each of 21 candidates, totalling 210 fits\n",
      "[CV] END ....................................C=1, kernel=rbf; total time=   1.7s\n",
      "[CV] END ....................................C=1, kernel=rbf; total time=   1.7s\n",
      "[CV] END ....................................C=1, kernel=rbf; total time=   1.7s\n",
      "[CV] END ....................................C=1, kernel=rbf; total time=   1.7s\n",
      "[CV] END ....................................C=1, kernel=rbf; total time=   1.7s\n",
      "[CV] END ....................................C=1, kernel=rbf; total time=   1.7s\n",
      "[CV] END ....................................C=1, kernel=rbf; total time=   1.7s\n",
      "[CV] END ....................................C=1, kernel=rbf; total time=   1.7s\n",
      "[CV] END ....................................C=1, kernel=rbf; total time=   1.7s\n",
      "[CV] END ....................................C=1, kernel=rbf; total time=   1.7s\n",
      "[CV] END .................................C=1, kernel=linear; total time=   0.9s\n",
      "[CV] END .................................C=1, kernel=linear; total time=   0.9s\n",
      "[CV] END .................................C=1, kernel=linear; total time=   0.9s\n",
      "[CV] END .................................C=1, kernel=linear; total time=   0.9s\n"
     ]
    }
   ],
   "source": [
    "%%time\n",
    "#Determine the best SVM with gridsearch and 7 C values\n",
    "\n",
    "clf = GridSearchCV(SVC(), {\n",
    "    'C': [1, 3, 5, 7 , 9, 11, 13],\n",
    "    'kernel': ['rbf','linear', 'poly']\n",
    "    }, cv=10, return_train_score = False, verbose = 2)\n",
    "\n",
    "clf.fit(X_train, y_train)\n",
    "df = pd.DataFrame(clf.cv_results_)\n",
    "df"
   ]
  },
  {
   "cell_type": "code",
   "execution_count": 41,
   "id": "9ea9ee2e",
   "metadata": {},
   "outputs": [
    {
     "name": "stdout",
     "output_type": "stream",
     "text": [
      "CPU times: user 1.5 s, sys: 219 ms, total: 1.72 s\n",
      "Wall time: 1.36 s\n"
     ]
    },
    {
     "data": {
      "text/plain": [
       "0.7467837837837837"
      ]
     },
     "execution_count": 41,
     "metadata": {},
     "output_type": "execute_result"
    }
   ],
   "source": [
    "%%time\n",
    "\n",
    "model_MLR = LogisticRegression(penalty = 'l1', C = 1, solver = 'liblinear',random_state = 0, max_iter = 10000).fit(X_train, y_train)\n",
    "results_MLR = model_MLR.predict(X_test)\n",
    "model_MLR.score(X_test, y_test)"
   ]
  },
  {
   "cell_type": "code",
   "execution_count": null,
   "id": "d14dc1ab",
   "metadata": {},
   "outputs": [],
   "source": [
    "%%time\n",
    "\n",
    "model_SVM = SVC(kernel = 'rbf', C = 9).fit(X_train, y_train)\n",
    "results_SVM = model_SVM.predict(X_test)\n",
    "model_SVM.score(X_test, y_test)"
   ]
  },
  {
   "cell_type": "code",
   "execution_count": null,
   "id": "65618782",
   "metadata": {},
   "outputs": [],
   "source": [
    "%%time\n",
    "\n",
    "columns = ['Log_Reg', 'SVM']\n",
    "model_results = pd.DataFrame(np.column_stack([results_MLR, results_SVM]), columns=columns)\n",
    "table = pd.crosstab(index=model_results['Log_Reg'], columns=model_results['SVM'])\n",
    "table"
   ]
  },
  {
   "cell_type": "code",
   "execution_count": null,
   "id": "bccb6c75",
   "metadata": {},
   "outputs": [],
   "source": [
    "result = mcnemar(table, exact=False)\n",
    "# summarize the finding\n",
    "print('statistic=%.3f, p-value=%.3f' % (result.statistic, result.pvalue))\n",
    "# interpret the p-value\n",
    "\n",
    "alpha = 0.05\n",
    "if result.pvalue > alpha:\n",
    "    print('Same proportions of errors (fail to reject H0)')\n",
    "else:\n",
    "    print('Different proportions of errors (reject H0)')"
   ]
  },
  {
   "cell_type": "code",
   "execution_count": null,
   "id": "7b761dda",
   "metadata": {},
   "outputs": [],
   "source": []
  },
  {
   "cell_type": "code",
   "execution_count": null,
   "id": "951fe5af",
   "metadata": {},
   "outputs": [],
   "source": []
  }
 ],
 "metadata": {
  "kernelspec": {
   "display_name": "Python 3 (ipykernel)",
   "language": "python",
   "name": "python3"
  },
  "language_info": {
   "codemirror_mode": {
    "name": "ipython",
    "version": 3
   },
   "file_extension": ".py",
   "mimetype": "text/x-python",
   "name": "python",
   "nbconvert_exporter": "python",
   "pygments_lexer": "ipython3",
   "version": "3.9.13"
  }
 },
 "nbformat": 4,
 "nbformat_minor": 5
}
